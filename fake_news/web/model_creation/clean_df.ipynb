{
 "cells": [
  {
   "cell_type": "code",
   "execution_count": 37,
   "id": "7eab764f",
   "metadata": {},
   "outputs": [],
   "source": [
    "import pandas as pd \n",
    "import os\n",
    "from sklearn.model_selection import train_test_split\n",
    "## for cleaning \n",
    "import re\n",
    "import string\n",
    "import nltk\n",
    "from nltk.corpus import stopwords\n",
    "from nltk.stem import WordNetLemmatizer\n",
    "from sklearn.feature_extraction.text import TfidfVectorizer\n",
    "from scipy.sparse import hstack\n"
   ]
  },
  {
   "cell_type": "code",
   "execution_count": 38,
   "id": "7f252475",
   "metadata": {},
   "outputs": [
    {
     "name": "stderr",
     "output_type": "stream",
     "text": [
      "[nltk_data] Downloading package stopwords to\n",
      "[nltk_data]     C:\\Users\\Lenovo\\AppData\\Roaming\\nltk_data...\n",
      "[nltk_data]   Package stopwords is already up-to-date!\n",
      "[nltk_data] Downloading package wordnet to\n",
      "[nltk_data]     C:\\Users\\Lenovo\\AppData\\Roaming\\nltk_data...\n",
      "[nltk_data]   Package wordnet is already up-to-date!\n",
      "[nltk_data] Downloading package omw-1.4 to\n",
      "[nltk_data]     C:\\Users\\Lenovo\\AppData\\Roaming\\nltk_data...\n",
      "[nltk_data]   Package omw-1.4 is already up-to-date!\n"
     ]
    },
    {
     "data": {
      "text/plain": [
       "True"
      ]
     },
     "execution_count": 38,
     "metadata": {},
     "output_type": "execute_result"
    }
   ],
   "source": [
    "nltk.download('stopwords')\n",
    "nltk.download('wordnet')\n",
    "nltk.download('omw-1.4')\n"
   ]
  },
  {
   "cell_type": "code",
   "execution_count": 39,
   "id": "c79d9f64",
   "metadata": {},
   "outputs": [],
   "source": [
    "import zipfile\n",
    "import os\n",
    "\n",
    "def unzip_file(zip_file_path, extract_to_path):\n",
    "    with zipfile.ZipFile(zip_file_path, 'r') as zip_ref:\n",
    "        zip_ref.extractall(extract_to_path)\n",
    "\n",
    "# Example usage:\n",
    "zip_file_path = 'archive (13).zip'\n",
    "extract_to_path = 'ziped'\n",
    "\n",
    "# Create the destination directory if it doesn't exist\n",
    "os.makedirs(extract_to_path, exist_ok=True)\n",
    "\n",
    "unzip_file(zip_file_path, extract_to_path)\n"
   ]
  },
  {
   "cell_type": "code",
   "execution_count": 40,
   "id": "755a6875",
   "metadata": {},
   "outputs": [],
   "source": [
    "true=pd.read_csv(\"ziped\\True.csv\")\n",
    "fake=pd.read_csv(\"ziped\\Fake.csv\")"
   ]
  },
  {
   "cell_type": "code",
   "execution_count": 41,
   "id": "16c0ea78",
   "metadata": {},
   "outputs": [],
   "source": [
    "true[\"f/t\"]=\"1\"\n",
    "fake[\"f/t\"]=\"0\""
   ]
  },
  {
   "cell_type": "code",
   "execution_count": 42,
   "id": "67620548",
   "metadata": {},
   "outputs": [
    {
     "data": {
      "text/plain": [
       "((21417, 5), (23481, 5))"
      ]
     },
     "execution_count": 42,
     "metadata": {},
     "output_type": "execute_result"
    }
   ],
   "source": [
    "true.shape,fake.shape"
   ]
  },
  {
   "cell_type": "code",
   "execution_count": 43,
   "id": "0f4c2152",
   "metadata": {},
   "outputs": [],
   "source": [
    "df=pd.concat([true,fake])"
   ]
  },
  {
   "cell_type": "code",
   "execution_count": 44,
   "id": "2bf1c534",
   "metadata": {},
   "outputs": [],
   "source": [
    "df=df.sample(frac=1).reset_index(drop=True)"
   ]
  },
  {
   "cell_type": "code",
   "execution_count": 45,
   "id": "7863ac18",
   "metadata": {},
   "outputs": [
    {
     "name": "stdout",
     "output_type": "stream",
     "text": [
      "<class 'pandas.core.frame.DataFrame'>\n",
      "RangeIndex: 44898 entries, 0 to 44897\n",
      "Data columns (total 5 columns):\n",
      " #   Column   Non-Null Count  Dtype \n",
      "---  ------   --------------  ----- \n",
      " 0   title    44898 non-null  object\n",
      " 1   text     44898 non-null  object\n",
      " 2   subject  44898 non-null  object\n",
      " 3   date     44898 non-null  object\n",
      " 4   f/t      44898 non-null  object\n",
      "dtypes: object(5)\n",
      "memory usage: 1.7+ MB\n"
     ]
    }
   ],
   "source": [
    "df.info()"
   ]
  },
  {
   "cell_type": "code",
   "execution_count": 46,
   "id": "7fcdd000",
   "metadata": {},
   "outputs": [],
   "source": [
    "df=df.drop('date',axis=1)\n",
    "df=df.drop('subject',axis=1)\n",
    "df['title']=df['title'].astype(str)\n",
    "df['text']=df['text'].astype(str)"
   ]
  },
  {
   "cell_type": "code",
   "execution_count": 47,
   "id": "b771d7df",
   "metadata": {},
   "outputs": [
    {
     "data": {
      "text/plain": [
       "'trump pick press secretary , noted numbnut sean spicer , appeared abc week discus , well , various thing . one point , asked whether russia actually try rig election , decided deflect instead actually give u real opinion . however , deflection plain insane . despite fact hillary lost election , decided say : part conversation . talking influence election ? talking hillary clinton getting debate question ahead time ? pretty valid attempt influence election . well , first , lost , spicer even bringing ? likely excuse russia meddling election , along fact trump closeness russia look really bad . look terrible way make look pretty without deflecting . , yeah , sure , russia bad , hillary worse , blah blah blah punish ! yes , spicer said , : going start talking side ? : hillary clinton influence election ? punished way ? please . someone stop people embarrassing whole country . watch whole ridiculous segment : featured image via screen capture embedded video'"
      ]
     },
     "execution_count": 47,
     "metadata": {},
     "output_type": "execute_result"
    }
   ],
   "source": [
    "\n",
    "def clean(text):\n",
    "\n",
    "    text = text.lower()\n",
    "    text = re.sub(r'https?://S+ | www\\.\\S+', '', text)\n",
    "    text = re.sub(r'\\n', '', text)\n",
    "    text = re.sub('\\[!.*?\\]', '', text)\n",
    "    word=\"\"\n",
    "    for i in text : \n",
    "        if i not in string.punctuation :\n",
    "            word+=i\n",
    "    tokens = nltk.word_tokenize(text)\n",
    "    stop_words = set(stopwords.words('english'))\n",
    "    tokens = [word for word in tokens if word not in stop_words]\n",
    "    # Lemmatization\n",
    "    lemmatizer = WordNetLemmatizer()\n",
    "    tokens = [lemmatizer.lemmatize(word) for word in tokens]\n",
    "    preprocessed_sentence = ' '.join(tokens) \n",
    "    \n",
    "    return preprocessed_sentence\n",
    "clean(df.loc[1]['text'])\n",
    "    "
   ]
  },
  {
   "cell_type": "code",
   "execution_count": 48,
   "id": "426eadf4",
   "metadata": {},
   "outputs": [],
   "source": [
    "### apply clean\n",
    "df[\"title\"]=df[\"title\"].apply(clean)\n",
    "df[\"text\"]=df[\"text\"].apply(clean)"
   ]
  },
  {
   "cell_type": "code",
   "execution_count": null,
   "id": "6e108e92",
   "metadata": {},
   "outputs": [],
   "source": [
    "#save the df bcz cleaning takes too much time\n",
    "df.to_csv(\"df.csv\",index=False)"
   ]
  },
  {
   "cell_type": "code",
   "execution_count": 49,
   "id": "01654bdd",
   "metadata": {},
   "outputs": [],
   "source": [
    "#split the data \n",
    "labels=df[\"f/t\"]\n",
    "features=df.drop(\"f/t\",axis=1)\n",
    "y_train,y_test,x_train,x_test=train_test_split(labels,features,test_size=0.2,random_state=42)\n"
   ]
  },
  {
   "cell_type": "code",
   "execution_count": 50,
   "id": "c17e8805",
   "metadata": {},
   "outputs": [
    {
     "data": {
      "text/plain": [
       "['tfidf_vectorizer2.joblib']"
      ]
     },
     "execution_count": 50,
     "metadata": {},
     "output_type": "execute_result"
    }
   ],
   "source": [
    "from joblib import dump, load\n",
    "vector1 = TfidfVectorizer()\n",
    "vector2 = TfidfVectorizer()\n",
    "\n",
    "# Vectorize each column separately\n",
    "x_train1 = vector1.fit_transform(x_train['title'])\n",
    "x_train2 = vector2.fit_transform(x_train['text'])\n",
    "\n",
    "# Concatenate the vectors horizontally\n",
    "x_train_vectorized = hstack([x_train1, x_train2])\n",
    "\n",
    "# Repeat the process for the test set\n",
    "x_test1 = vector1.transform(x_test['title'])\n",
    "x_test2 = vector2.transform(x_test['text'])\n",
    "x_test_vectorized = hstack([x_test1, x_test2])\n",
    "dump(vector1, 'tfidf_vectorizer1.joblib')\n",
    "dump(vector2, 'tfidf_vectorizer2.joblib')"
   ]
  },
  {
   "cell_type": "code",
   "execution_count": 52,
   "id": "01058633",
   "metadata": {},
   "outputs": [],
   "source": [
    "#model selection \n",
    "from sklearn.svm import SVC\n",
    "from sklearn.metrics import accuracy_score"
   ]
  },
  {
   "cell_type": "code",
   "execution_count": null,
   "id": "dcbfd4e8",
   "metadata": {},
   "outputs": [],
   "source": [
    "#model=SVC()\n",
    "#model.fit(x_train_vectorized,y_train)\n",
    "#y_pred=model.predict(x_test_vectorized)\n",
    "#accc=accuracy_score(y_test,y_pred)\n",
    "#accc : 0.9947661469933184"
   ]
  },
  {
   "cell_type": "code",
   "execution_count": 53,
   "id": "12cc3dd9",
   "metadata": {},
   "outputs": [],
   "source": [
    "from sklearn.model_selection import cross_val_score\n",
    "from sklearn.tree import DecisionTreeClassifier\n",
    "model=DecisionTreeClassifier()\n",
    "model.fit(x_train_vectorized,y_train)\n",
    "y_pred=model.predict(x_test_vectorized)\n",
    "accc=accuracy_score(y_test,y_pred)\n",
    "accc= 0.9968819599109131"
   ]
  },
  {
   "cell_type": "code",
   "execution_count": 54,
   "id": "732b812a",
   "metadata": {},
   "outputs": [
    {
     "data": {
      "text/plain": [
       "['model.joblib']"
      ]
     },
     "execution_count": 54,
     "metadata": {},
     "output_type": "execute_result"
    }
   ],
   "source": [
    "from joblib import dump, load\n",
    "dump(model, 'model.joblib') "
   ]
  },
  {
   "cell_type": "code",
   "execution_count": null,
   "id": "92662110",
   "metadata": {},
   "outputs": [],
   "source": [
    "load_model = load('filename.joblib') "
   ]
  }
 ],
 "metadata": {
  "kernelspec": {
   "display_name": "Python 3 (ipykernel)",
   "language": "python",
   "name": "python3"
  },
  "language_info": {
   "codemirror_mode": {
    "name": "ipython",
    "version": 3
   },
   "file_extension": ".py",
   "mimetype": "text/x-python",
   "name": "python",
   "nbconvert_exporter": "python",
   "pygments_lexer": "ipython3",
   "version": "3.9.13"
  }
 },
 "nbformat": 4,
 "nbformat_minor": 5
}
