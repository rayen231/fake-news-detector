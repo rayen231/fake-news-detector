{
 "cells": [
  {
   "cell_type": "code",
   "execution_count": 1,
   "id": "7eab764f",
   "metadata": {},
   "outputs": [],
   "source": [
    "import pandas as pd \n",
    "import os\n",
    "from sklearn.model_selection import train_test_split\n",
    "## for cleaning \n",
    "import re\n",
    "import string\n",
    "import nltk\n",
    "from nltk.corpus import stopwords\n",
    "from nltk.stem import WordNetLemmatizer"
   ]
  },
  {
   "cell_type": "code",
   "execution_count": 2,
   "id": "7f252475",
   "metadata": {},
   "outputs": [
    {
     "name": "stderr",
     "output_type": "stream",
     "text": [
      "[nltk_data] Downloading package stopwords to\n",
      "[nltk_data]     C:\\Users\\Lenovo\\AppData\\Roaming\\nltk_data...\n",
      "[nltk_data]   Package stopwords is already up-to-date!\n",
      "[nltk_data] Downloading package wordnet to\n",
      "[nltk_data]     C:\\Users\\Lenovo\\AppData\\Roaming\\nltk_data...\n",
      "[nltk_data]   Package wordnet is already up-to-date!\n",
      "[nltk_data] Downloading package omw-1.4 to\n",
      "[nltk_data]     C:\\Users\\Lenovo\\AppData\\Roaming\\nltk_data...\n",
      "[nltk_data]   Package omw-1.4 is already up-to-date!\n"
     ]
    },
    {
     "data": {
      "text/plain": [
       "True"
      ]
     },
     "execution_count": 2,
     "metadata": {},
     "output_type": "execute_result"
    }
   ],
   "source": [
    "nltk.download('stopwords')\n",
    "nltk.download('wordnet')\n",
    "nltk.download('omw-1.4')\n"
   ]
  },
  {
   "cell_type": "code",
   "execution_count": 3,
   "id": "c79d9f64",
   "metadata": {},
   "outputs": [],
   "source": [
    "import zipfile\n",
    "import os\n",
    "\n",
    "def unzip_file(zip_file_path, extract_to_path):\n",
    "    with zipfile.ZipFile(zip_file_path, 'r') as zip_ref:\n",
    "        zip_ref.extractall(extract_to_path)\n",
    "\n",
    "# Example usage:\n",
    "zip_file_path = 'archive (13).zip'\n",
    "extract_to_path = 'ziped'\n",
    "\n",
    "# Create the destination directory if it doesn't exist\n",
    "os.makedirs(extract_to_path, exist_ok=True)\n",
    "\n",
    "unzip_file(zip_file_path, extract_to_path)\n"
   ]
  },
  {
   "cell_type": "code",
   "execution_count": 4,
   "id": "755a6875",
   "metadata": {},
   "outputs": [],
   "source": [
    "true=pd.read_csv(\"ziped\\True.csv\")\n",
    "fake=pd.read_csv(\"ziped\\Fake.csv\")"
   ]
  },
  {
   "cell_type": "code",
   "execution_count": 5,
   "id": "16c0ea78",
   "metadata": {},
   "outputs": [],
   "source": [
    "true[\"f/t\"]=\"1\"\n",
    "fake[\"f/t\"]=\"0\""
   ]
  },
  {
   "cell_type": "code",
   "execution_count": 6,
   "id": "67620548",
   "metadata": {},
   "outputs": [
    {
     "data": {
      "text/plain": [
       "((21417, 5), (23481, 5))"
      ]
     },
     "execution_count": 6,
     "metadata": {},
     "output_type": "execute_result"
    }
   ],
   "source": [
    "true.shape,fake.shape"
   ]
  },
  {
   "cell_type": "code",
   "execution_count": 7,
   "id": "0f4c2152",
   "metadata": {},
   "outputs": [],
   "source": [
    "df=pd.concat([true,fake])"
   ]
  },
  {
   "cell_type": "code",
   "execution_count": 8,
   "id": "2bf1c534",
   "metadata": {},
   "outputs": [],
   "source": [
    "df=df.sample(frac=1).reset_index(drop=True)"
   ]
  },
  {
   "cell_type": "code",
   "execution_count": 9,
   "id": "7863ac18",
   "metadata": {},
   "outputs": [
    {
     "name": "stdout",
     "output_type": "stream",
     "text": [
      "<class 'pandas.core.frame.DataFrame'>\n",
      "RangeIndex: 44898 entries, 0 to 44897\n",
      "Data columns (total 5 columns):\n",
      " #   Column   Non-Null Count  Dtype \n",
      "---  ------   --------------  ----- \n",
      " 0   title    44898 non-null  object\n",
      " 1   text     44898 non-null  object\n",
      " 2   subject  44898 non-null  object\n",
      " 3   date     44898 non-null  object\n",
      " 4   f/t      44898 non-null  object\n",
      "dtypes: object(5)\n",
      "memory usage: 1.7+ MB\n"
     ]
    }
   ],
   "source": [
    "df.info()"
   ]
  },
  {
   "cell_type": "code",
   "execution_count": 10,
   "id": "7fcdd000",
   "metadata": {},
   "outputs": [
    {
     "data": {
      "text/html": [
       "<div>\n",
       "<style scoped>\n",
       "    .dataframe tbody tr th:only-of-type {\n",
       "        vertical-align: middle;\n",
       "    }\n",
       "\n",
       "    .dataframe tbody tr th {\n",
       "        vertical-align: top;\n",
       "    }\n",
       "\n",
       "    .dataframe thead th {\n",
       "        text-align: right;\n",
       "    }\n",
       "</style>\n",
       "<table border=\"1\" class=\"dataframe\">\n",
       "  <thead>\n",
       "    <tr style=\"text-align: right;\">\n",
       "      <th></th>\n",
       "      <th>title</th>\n",
       "      <th>text</th>\n",
       "      <th>f/t</th>\n",
       "    </tr>\n",
       "  </thead>\n",
       "  <tbody>\n",
       "    <tr>\n",
       "      <th>0</th>\n",
       "      <td>South Dakota's governor vetoes loosening of co...</td>\n",
       "      <td>(Reuters) - South Dakota’s Republican Governor...</td>\n",
       "      <td>1</td>\n",
       "    </tr>\n",
       "    <tr>\n",
       "      <th>1</th>\n",
       "      <td>Clinton thrilled Obama 'has my back' in U.S. e...</td>\n",
       "      <td>WASHINGTON (Reuters) - Presumptive Democratic ...</td>\n",
       "      <td>1</td>\n",
       "    </tr>\n",
       "    <tr>\n",
       "      <th>2</th>\n",
       "      <td>Senior Intelligence Official Slams Trump To T...</td>\n",
       "      <td>America s intelligence community doesn t trust...</td>\n",
       "      <td>0</td>\n",
       "    </tr>\n",
       "    <tr>\n",
       "      <th>3</th>\n",
       "      <td>U.S. Senate advances nomination of Tillerson a...</td>\n",
       "      <td>WASHINGTON (Reuters) - The U.S. Senate advance...</td>\n",
       "      <td>1</td>\n",
       "    </tr>\n",
       "    <tr>\n",
       "      <th>4</th>\n",
       "      <td>U.S. reverses course and offers new dates for ...</td>\n",
       "      <td>WASHINGTON/BRUSSELS (Reuters) - U.S. Secretary...</td>\n",
       "      <td>1</td>\n",
       "    </tr>\n",
       "    <tr>\n",
       "      <th>...</th>\n",
       "      <td>...</td>\n",
       "      <td>...</td>\n",
       "      <td>...</td>\n",
       "    </tr>\n",
       "    <tr>\n",
       "      <th>44893</th>\n",
       "      <td>Trump administration sides with employers in S...</td>\n",
       "      <td>WASHINGTON (Reuters) - The Trump administratio...</td>\n",
       "      <td>1</td>\n",
       "    </tr>\n",
       "    <tr>\n",
       "      <th>44894</th>\n",
       "      <td>Taiwan activist to be tried for subversion in ...</td>\n",
       "      <td>Beijing (Reuters) - China will on Monday put o...</td>\n",
       "      <td>1</td>\n",
       "    </tr>\n",
       "    <tr>\n",
       "      <th>44895</th>\n",
       "      <td>LAUGHABLE: Clinton Press Secretary Gives Condi...</td>\n",
       "      <td>From the ABC News report:Hillary Clinton  Will...</td>\n",
       "      <td>0</td>\n",
       "    </tr>\n",
       "    <tr>\n",
       "      <th>44896</th>\n",
       "      <td>Senior GOP Senator Says Trump Is Too Stupid T...</td>\n",
       "      <td>Amid allegations of Russian interference with ...</td>\n",
       "      <td>0</td>\n",
       "    </tr>\n",
       "    <tr>\n",
       "      <th>44897</th>\n",
       "      <td>MAID SCREAMS, BEGS FOR HELP As She Holds On To...</td>\n",
       "      <td>While immature, snowflake college students fre...</td>\n",
       "      <td>0</td>\n",
       "    </tr>\n",
       "  </tbody>\n",
       "</table>\n",
       "<p>44898 rows × 3 columns</p>\n",
       "</div>"
      ],
      "text/plain": [
       "                                                   title  \\\n",
       "0      South Dakota's governor vetoes loosening of co...   \n",
       "1      Clinton thrilled Obama 'has my back' in U.S. e...   \n",
       "2       Senior Intelligence Official Slams Trump To T...   \n",
       "3      U.S. Senate advances nomination of Tillerson a...   \n",
       "4      U.S. reverses course and offers new dates for ...   \n",
       "...                                                  ...   \n",
       "44893  Trump administration sides with employers in S...   \n",
       "44894  Taiwan activist to be tried for subversion in ...   \n",
       "44895  LAUGHABLE: Clinton Press Secretary Gives Condi...   \n",
       "44896   Senior GOP Senator Says Trump Is Too Stupid T...   \n",
       "44897  MAID SCREAMS, BEGS FOR HELP As She Holds On To...   \n",
       "\n",
       "                                                    text f/t  \n",
       "0      (Reuters) - South Dakota’s Republican Governor...   1  \n",
       "1      WASHINGTON (Reuters) - Presumptive Democratic ...   1  \n",
       "2      America s intelligence community doesn t trust...   0  \n",
       "3      WASHINGTON (Reuters) - The U.S. Senate advance...   1  \n",
       "4      WASHINGTON/BRUSSELS (Reuters) - U.S. Secretary...   1  \n",
       "...                                                  ...  ..  \n",
       "44893  WASHINGTON (Reuters) - The Trump administratio...   1  \n",
       "44894  Beijing (Reuters) - China will on Monday put o...   1  \n",
       "44895  From the ABC News report:Hillary Clinton  Will...   0  \n",
       "44896  Amid allegations of Russian interference with ...   0  \n",
       "44897  While immature, snowflake college students fre...   0  \n",
       "\n",
       "[44898 rows x 3 columns]"
      ]
     },
     "execution_count": 10,
     "metadata": {},
     "output_type": "execute_result"
    }
   ],
   "source": [
    "df=df.drop('date',axis=1)\n",
    "df=df.drop('subject',axis=1)\n",
    "df"
   ]
  },
  {
   "cell_type": "code",
   "execution_count": 11,
   "id": "b771d7df",
   "metadata": {},
   "outputs": [
    {
     "data": {
      "text/plain": [
       "'washington ( reuters ) - presumptive democratic presidential nominee hillary clinton thursday welcomed president barack obama ’ endorsement , telling reuters interview “ mean world ” former rival back 2016 campaign . “ absolutely joy honor president obama , year , gone fierce competitor true friend , ” clinton said . clinton obama begin campaigning together next week green bay , wisconsin .'"
      ]
     },
     "execution_count": 11,
     "metadata": {},
     "output_type": "execute_result"
    }
   ],
   "source": [
    "\n",
    "def clean(text):\n",
    "    text = text.lower()\n",
    "    text = re.sub(r'https?://S+ | www\\.\\S+', '', text)\n",
    "    text = re.sub(r'\\n', '', text)\n",
    "    text = re.sub('\\[!.*?\\]', '', text)\n",
    "    word=\"\"\n",
    "    for i in text : \n",
    "        if i not in string.punctuation :\n",
    "            word+=i\n",
    "    tokens = nltk.word_tokenize(text)\n",
    "    stop_words = set(stopwords.words('english'))\n",
    "    tokens = [word for word in tokens if word not in stop_words]\n",
    "    # Lemmatization\n",
    "    lemmatizer = WordNetLemmatizer()\n",
    "    tokens = [lemmatizer.lemmatize(word) for word in tokens]\n",
    "    preprocessed_sentence = ' '.join(tokens) \n",
    "    \n",
    "    return preprocessed_sentence\n",
    "clean(df.loc[1]['text'])\n",
    "    "
   ]
  },
  {
   "cell_type": "code",
   "execution_count": 16,
   "id": "426eadf4",
   "metadata": {},
   "outputs": [],
   "source": [
    "\n",
    "\n",
    "### apply clean\n",
    "\n",
    "df[\"title\"]=df[\"title\"].apply(clean)\n",
    "df[\"text\"]=df[\"text\"].apply(clean)"
   ]
  },
  {
   "cell_type": "code",
   "execution_count": 13,
   "id": "6e108e92",
   "metadata": {},
   "outputs": [],
   "source": [
    "df.to_csv(\"df.csv\",index=False)"
   ]
  },
  {
   "cell_type": "code",
   "execution_count": 14,
   "id": "01654bdd",
   "metadata": {},
   "outputs": [],
   "source": [
    "#split the data \n",
    "labels=df[\"f/t\"]\n",
    "features=df.drop(\"f/t\",axis=1)\n",
    "y_train,y_test,x_train,x_test=train_test_split(labels,features,test_size=0.2)"
   ]
  },
  {
   "cell_type": "code",
   "execution_count": 15,
   "id": "c17e8805",
   "metadata": {},
   "outputs": [
    {
     "data": {
      "text/plain": [
       "(                                                   title  \\\n",
       " 15918  pope 's comment trump 's christianity spark jo...   \n",
       " 23955  [ video ] hundred mormon fundamentalist surrou...   \n",
       " 31884  france ’ president confirms intentionally humi...   \n",
       " 22842  brilliant trump adviser : “ extreme medium ” g...   \n",
       " 19396  nato chief stoltenberg win extended term late ...   \n",
       " ...                                                  ...   \n",
       " 35163     white man murder cop racist medium stay silent   \n",
       " 22297  britain ’ islamic realist tommy robinson tear ...   \n",
       " 1730   obama eyeing digital medium career post-presid...   \n",
       " 17814  3 million illegal alien investigation voting…a...   \n",
       " 43576  busted ! trump lawyer nail comey big lie oath ...   \n",
       " \n",
       "                                                     text  \n",
       " 15918  ( reuters ) - pope francis ’ remark thursday u...  \n",
       " 23955  evil hiding banner religion backyard 32-year-o...  \n",
       " 31884  cringe-inducing handshake seen mocked around w...  \n",
       " 22842  treat ! laura ingraham interviewed president t...  \n",
       " 19396  brussels ( reuters ) - nato ally extended jens...  \n",
       " ...                                                  ...  \n",
       " 35163  jason brown , despite colorful appellation , w...  \n",
       " 22297  former english defence league leader tommy rob...  \n",
       " 1730   donald trump pulled winning presidency ( one s...  \n",
       " 17814  part problem organization registering people w...  \n",
       " 43576  president trump lawyer marc kasowitz made stat...  \n",
       " \n",
       " [35918 rows x 2 columns],\n",
       "                                                    title  \\\n",
       " 16218  conservative pro-trump musician performed vega...   \n",
       " 18422  hillary clinton ’ ‘ kkk ’ smear trump democrat...   \n",
       " 17202  backlash among german mp parliamentary twitter...   \n",
       " 662    senator criticize fraud u.s. low-income phone ...   \n",
       " 22547  black u.s. lawmaker group endorses clinton whi...   \n",
       " ...                                                  ...   \n",
       " 12200  palestinian rival delay full gaza handover 10 day   \n",
       " 7469   twenty-two million american would lose health ...   \n",
       " 17725  royal jordanian get u.s. instruction lifting t...   \n",
       " 5702   bernie sander action toy slouch , point raise ...   \n",
       " 21877  watch : robin williams call hypocrisy audience...   \n",
       " \n",
       "                                                     text  \n",
       " 16218  former pussycat doll singer , kaya jones , rec...  \n",
       " 18422  william mcgurn wall street journallet get stra...  \n",
       " 17202  berlin ( reuters ) - german lawmaker protested...  \n",
       " 662    washington ( reuters ) - top u.s. senate repub...  \n",
       " 22547  washington ( reuters ) - democratic presidenti...  \n",
       " ...                                                  ...  \n",
       " 12200  gaza ( reuters ) - rival palestinian faction f...  \n",
       " 7469   washington ( reuters ) - twenty-two million am...  \n",
       " 17725  amman ( reuters ) - jordanian airline royal jo...  \n",
       " 5702   new york ( reuters ) - order bernie sander act...  \n",
       " 21877  robin williams one-of-a-kind comedian . brand ...  \n",
       " \n",
       " [8980 rows x 2 columns])"
      ]
     },
     "execution_count": 15,
     "metadata": {},
     "output_type": "execute_result"
    }
   ],
   "source": [
    "x_train,x_test"
   ]
  }
 ],
 "metadata": {
  "kernelspec": {
   "display_name": "Python 3 (ipykernel)",
   "language": "python",
   "name": "python3"
  },
  "language_info": {
   "codemirror_mode": {
    "name": "ipython",
    "version": 3
   },
   "file_extension": ".py",
   "mimetype": "text/x-python",
   "name": "python",
   "nbconvert_exporter": "python",
   "pygments_lexer": "ipython3",
   "version": "3.9.13"
  }
 },
 "nbformat": 4,
 "nbformat_minor": 5
}
